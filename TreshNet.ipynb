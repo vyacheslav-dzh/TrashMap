{
  "nbformat": 4,
  "nbformat_minor": 0,
  "metadata": {
    "colab": {
      "name": "TreshNet.ipynb",
      "provenance": [],
      "mount_file_id": "1pO-NUnbmJTHvpe06_HqxvYOALtxE6zeC",
      "authorship_tag": "ABX9TyNYFc4ko04S/4+vjbBW6DWT",
      "include_colab_link": true
    },
    "kernelspec": {
      "name": "python3",
      "display_name": "Python 3"
    },
    "language_info": {
      "name": "python"
    },
    "accelerator": "GPU"
  },
  "cells": [
    {
      "cell_type": "markdown",
      "metadata": {
        "id": "view-in-github",
        "colab_type": "text"
      },
      "source": [
        "<a href=\"https://colab.research.google.com/github/vyacheslav-dzh/TrashMapRepo/blob/main/TreshNet.ipynb\" target=\"_parent\"><img src=\"https://colab.research.google.com/assets/colab-badge.svg\" alt=\"Open In Colab\"/></a>"
      ]
    },
    {
      "cell_type": "code",
      "metadata": {
        "id": "36JzAt0OFeqB"
      },
      "source": [
        "!git clone https://github.com/ultralytics/yolov5  # clone repo\n",
        "!pip install -U -r yolov5/requirements.txt  # install dependencies"
      ],
      "execution_count": null,
      "outputs": []
    },
    {
      "cell_type": "code",
      "metadata": {
        "id": "Tth-tMSsSu4y"
      },
      "source": [
        "%cd /content/yolov5\n",
        "!python train.py --img 1216 --batch 16 --epochs 50 --data custom_data.yaml --cfg custom_yolov5s.yaml --weights ' '"
      ],
      "execution_count": null,
      "outputs": []
    },
    {
      "cell_type": "code",
      "metadata": {
        "id": "jWJvY-jZGgF1"
      },
      "source": [
        "#Used it ones for get weigths\n",
        "%cd ../\n",
        "%cd content/\n",
        "!git clone https://github.com/vyacheslav-dzh/TrashMapRepo.git -b weights\n",
        "%cd TrashMapRepo\n",
        "%mv custom_weights.pt ../yolov5/"
      ],
      "execution_count": null,
      "outputs": []
    },
    {
      "cell_type": "code",
      "metadata": {
        "id": "4egpnWRVKSu-"
      },
      "source": [
        "from google.colab import files\n",
        "import os\n",
        "\n",
        "%cd ../\n",
        "%cd content\n",
        "%cd yolov5\n",
        "%mkdir test\n",
        "%cd test\n",
        "\n",
        "uploaded = files.upload()\n",
        "\n",
        "filename = os.path.join(\"test\", next(iter(uploaded)))\n",
        "print(\"Path to img: \", filename)\n",
        "\n",
        "%cd ../"
      ],
      "execution_count": null,
      "outputs": []
    },
    {
      "cell_type": "code",
      "metadata": {
        "id": "zBLQaiGtHrSa"
      },
      "source": [
        "%cd yolov5\n",
        "import torch\n",
        "from PIL import Image\n",
        "\n",
        "LIMIT = 0.7\n",
        "\n",
        "model = torch.hub.load(os.curdir, 'custom', path=\"custom_weights.pt\", source=\"local\")\n",
        "\n",
        "results = model(Image.open(filename))\n",
        "\n",
        "#results.save()\n",
        "results.show()\n",
        "\n",
        "\n",
        "#results.xyxy[0][0][-1]\n",
        "#results.pandas().xyxy[0]\n",
        "all_count = len(results.pandas().xyxy[0][\"class\"])\n",
        "full_count = len([i for i in results.pandas().xyxy[0][\"class\"] if i])\n",
        "\n",
        "pollution = full_count/all_count\n",
        "\n",
        "\n",
        "if pollution > LIMIT:\n",
        "  print(\"c_mode = 1\")\n",
        "else:\n",
        "  print(\"c_mode = 0\")"
      ],
      "execution_count": null,
      "outputs": []
    }
  ]
}